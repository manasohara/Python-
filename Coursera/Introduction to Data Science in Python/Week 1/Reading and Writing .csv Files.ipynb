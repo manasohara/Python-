{
 "cells": [
  {
   "cell_type": "code",
   "execution_count": 98,
   "metadata": {},
   "outputs": [],
   "source": [
    "import csv\n",
    "%precision 2\n",
    "import pandas as pd # used to see data ain notebook"
   ]
  },
  {
   "cell_type": "code",
   "execution_count": 99,
   "metadata": {},
   "outputs": [
    {
     "data": {
      "text/plain": [
       "[{'': '1',\n",
       "  'manufacturer': 'audi',\n",
       "  'model': 'a4',\n",
       "  'displ': '1.8',\n",
       "  'year': '1999',\n",
       "  'cyl': '4',\n",
       "  'trans': 'auto(l5)',\n",
       "  'drv': 'f',\n",
       "  'cty': '18',\n",
       "  'hwy': '29',\n",
       "  'fl': 'p',\n",
       "  'class': 'compact'},\n",
       " {'': '2',\n",
       "  'manufacturer': 'audi',\n",
       "  'model': 'a4',\n",
       "  'displ': '1.8',\n",
       "  'year': '1999',\n",
       "  'cyl': '4',\n",
       "  'trans': 'manual(m5)',\n",
       "  'drv': 'f',\n",
       "  'cty': '21',\n",
       "  'hwy': '29',\n",
       "  'fl': 'p',\n",
       "  'class': 'compact'},\n",
       " {'': '3',\n",
       "  'manufacturer': 'audi',\n",
       "  'model': 'a4',\n",
       "  'displ': '2',\n",
       "  'year': '2008',\n",
       "  'cyl': '4',\n",
       "  'trans': 'manual(m6)',\n",
       "  'drv': 'f',\n",
       "  'cty': '20',\n",
       "  'hwy': '31',\n",
       "  'fl': 'p',\n",
       "  'class': 'compact'}]"
      ]
     },
     "execution_count": 99,
     "metadata": {},
     "output_type": "execute_result"
    }
   ],
   "source": [
    "with open('mpg.csv') as csvfile:\n",
    "    file = list(csv.DictReader(csvfile))\n",
    "file[:3]"
   ]
  },
  {
   "cell_type": "code",
   "execution_count": 100,
   "metadata": {},
   "outputs": [
    {
     "data": {
      "text/plain": [
       "234"
      ]
     },
     "execution_count": 100,
     "metadata": {},
     "output_type": "execute_result"
    }
   ],
   "source": [
    "len(file)"
   ]
  },
  {
   "cell_type": "code",
   "execution_count": 101,
   "metadata": {},
   "outputs": [
    {
     "data": {
      "text/plain": [
       "dict_keys(['', 'manufacturer', 'model', 'displ', 'year', 'cyl', 'trans', 'drv', 'cty', 'hwy', 'fl', 'class'])"
      ]
     },
     "execution_count": 101,
     "metadata": {},
     "output_type": "execute_result"
    }
   ],
   "source": [
    "file[0].keys()"
   ]
  },
  {
   "cell_type": "markdown",
   "metadata": {},
   "source": [
    "## we have to find average city mpg across all cars in our .csv file\n",
    "## mpg - miles per gallon\n",
    "## so we have to do sum of city mileage for all cars and divide it with all cars"
   ]
  },
  {
   "cell_type": "code",
   "execution_count": 102,
   "metadata": {},
   "outputs": [
    {
     "data": {
      "text/plain": [
       "16.86"
      ]
     },
     "execution_count": 102,
     "metadata": {},
     "output_type": "execute_result"
    }
   ],
   "source": [
    "sum(float(d['cty']) for d in file) /len(file)"
   ]
  },
  {
   "cell_type": "code",
   "execution_count": 103,
   "metadata": {},
   "outputs": [],
   "source": [
    "#print(pd.read_csv('mpg.csv')) #over here......"
   ]
  },
  {
   "cell_type": "markdown",
   "metadata": {},
   "source": [
    "## average highway mpg across all cars in .csv\n"
   ]
  },
  {
   "cell_type": "code",
   "execution_count": 104,
   "metadata": {},
   "outputs": [
    {
     "data": {
      "text/plain": [
       "23.44"
      ]
     },
     "execution_count": 104,
     "metadata": {},
     "output_type": "execute_result"
    }
   ],
   "source": [
    "sum(float(d['hwy']) for d in file)/ len(file)"
   ]
  },
  {
   "cell_type": "markdown",
   "metadata": {},
   "source": [
    "## set of cylinders of cars in our file \n",
    "## it will show which type of cylinders cars are in the file"
   ]
  },
  {
   "cell_type": "code",
   "execution_count": 105,
   "metadata": {},
   "outputs": [
    {
     "data": {
      "text/plain": [
       "{'4', '5', '6', '8'}"
      ]
     },
     "execution_count": 105,
     "metadata": {},
     "output_type": "execute_result"
    }
   ],
   "source": [
    "cylinders = set(d['cyl'] for d in file)\n",
    "cylinders"
   ]
  },
  {
   "cell_type": "markdown",
   "metadata": {},
   "source": [
    "## it will show average mileage for each cylin_type in the city "
   ]
  },
  {
   "cell_type": "code",
   "execution_count": 106,
   "metadata": {},
   "outputs": [
    {
     "name": "stdout",
     "output_type": "stream",
     "text": [
      "[('4', 21.012345679012345), ('5', 20.5), ('6', 16.21518987341772), ('8', 12.571428571428571)]\n"
     ]
    }
   ],
   "source": [
    "emptylist =[]\n",
    "for c in cylinders:\n",
    "    summpg =0\n",
    "    cyl_type_count=0\n",
    "    for d in file:\n",
    "        if d['cyl'] ==c:\n",
    "            summpg+= float(d['cty'])\n",
    "            cyl_type_count+=1\n",
    "    emptylist.append((c,summpg/cyl_type_count))\n",
    "emptylist.sort(key=lambda  x: x[0]) \n",
    "print(emptylist)"
   ]
  },
  {
   "cell_type": "markdown",
   "metadata": {},
   "source": [
    "## it will show average mileage for each cylin_type on the hwy"
   ]
  },
  {
   "cell_type": "code",
   "execution_count": 107,
   "metadata": {},
   "outputs": [
    {
     "name": "stdout",
     "output_type": "stream",
     "text": [
      "[('4', 28.80246913580247), ('5', 28.75), ('6', 22.82278481012658), ('8', 17.62857142857143)]\n"
     ]
    }
   ],
   "source": [
    "emptylist1 =[]\n",
    "for c in cylinders:\n",
    "    summpg =0\n",
    "    cyl_type_count=0\n",
    "    for d in file:\n",
    "        if d['cyl'] ==c:\n",
    "            summpg+= float(d['hwy'])\n",
    "            cyl_type_count+=1\n",
    "    emptylist1.append((c,summpg/cyl_type_count))\n",
    "emptylist1.sort(key=lambda  x: x[0]) \n",
    "print(emptylist1)"
   ]
  },
  {
   "cell_type": "code",
   "execution_count": 108,
   "metadata": {},
   "outputs": [
    {
     "data": {
      "text/plain": [
       "{'2seater', 'compact', 'midsize', 'minivan', 'pickup', 'subcompact', 'suv'}"
      ]
     },
     "execution_count": 108,
     "metadata": {},
     "output_type": "execute_result"
    }
   ],
   "source": [
    "vehicle_class= set(d['class'] for d in file)\n",
    "vehicle_class"
   ]
  },
  {
   "cell_type": "markdown",
   "metadata": {},
   "source": [
    "## we fetched out the vehicle_class\n",
    "## now according to vehicle_class we are taking out mileage for each vehicle_class on highway\n"
   ]
  },
  {
   "cell_type": "code",
   "execution_count": null,
   "metadata": {},
   "outputs": [],
   "source": [
    "emptylist2=[ ]\n",
    "for t in vehicle_class:\n",
    "    summpg=0\n",
    "    vehicle_class_count=0\n",
    "    for d in file:\n",
    "        if d['class']==t:\n",
    "            summpg += float(d['hwy'])\n",
    "            vehicle_class_count+=1\n",
    "    emptylist2.append((t,summpg/vehicle_class_count))\n",
    "emptylist2.sort(key=lambda x:x[-1])\n",
    "emptylist2"
   ]
  },
  {
   "cell_type": "markdown",
   "metadata": {},
   "source": [
    "## now according to vehicle_class we are taking out mileage for each vehicle_class in city"
   ]
  },
  {
   "cell_type": "code",
   "execution_count": null,
   "metadata": {},
   "outputs": [],
   "source": [
    "emptylist2=[]\n",
    "for t in vehicle_class:\n",
    "    summpg=0\n",
    "    vehicle_class_count =0\n",
    "    for d in file:\n",
    "        if d['class'] == t:\n",
    "            summpg += float(d['cty'])\n",
    "            vehicle_class_count +=1\n",
    "    emptylist2.append( (t, summpg/vehicle_class_count))\n",
    "emptylist2.sort(key=lambda  x: x[-1]) \n",
    "emptylist2"
   ]
  },
  {
   "cell_type": "code",
   "execution_count": null,
   "metadata": {},
   "outputs": [],
   "source": []
  }
 ],
 "metadata": {
  "kernelspec": {
   "display_name": "Python 3",
   "language": "python",
   "name": "python3"
  },
  "language_info": {
   "codemirror_mode": {
    "name": "ipython",
    "version": 3
   },
   "file_extension": ".py",
   "mimetype": "text/x-python",
   "name": "python",
   "nbconvert_exporter": "python",
   "pygments_lexer": "ipython3",
   "version": "3.8.3"
  }
 },
 "nbformat": 4,
 "nbformat_minor": 4
}
