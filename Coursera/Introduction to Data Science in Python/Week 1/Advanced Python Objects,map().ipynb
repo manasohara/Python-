{
 "cells": [
  {
   "cell_type": "code",
   "execution_count": 1,
   "metadata": {},
   "outputs": [],
   "source": [
    "class Person:\n",
    "    department =\"School of Computer Science\"\n",
    "    def setName(self,name):\n",
    "        self.name=name\n",
    "    def setLocation(self,location):\n",
    "        self.location=location"
   ]
  },
  {
   "cell_type": "code",
   "execution_count": 2,
   "metadata": {},
   "outputs": [
    {
     "name": "stdout",
     "output_type": "stream",
     "text": [
      "Manas Ohara lives at Pune,Maharastra,India and in School of Computer Science department\n"
     ]
    }
   ],
   "source": [
    "person=Person()\n",
    "person.setName(\"Manas Ohara\")\n",
    "person.setLocation(\"Pune,Maharastra,India\")\n",
    "print(\"{} lives at {} and in {} department\".format(person.name,person.location,person.department))"
   ]
  },
  {
   "cell_type": "code",
   "execution_count": 4,
   "metadata": {},
   "outputs": [
    {
     "data": {
      "text/plain": [
       "<map at 0x1d2c1c64490>"
      ]
     },
     "execution_count": 4,
     "metadata": {},
     "output_type": "execute_result"
    }
   ],
   "source": [
    "store1=[10.00,11.00,12.34,2.34]\n",
    "store2=[9.00,11.10,12.34,2.01]\n",
    "cheapest=map(min,store1,store2)\n",
    "cheapest"
   ]
  },
  {
   "cell_type": "code",
   "execution_count": null,
   "metadata": {},
   "outputs": [],
   "source": []
  }
 ],
 "metadata": {
  "kernelspec": {
   "display_name": "Python 3",
   "language": "python",
   "name": "python3"
  },
  "language_info": {
   "codemirror_mode": {
    "name": "ipython",
    "version": 3
   },
   "file_extension": ".py",
   "mimetype": "text/x-python",
   "name": "python",
   "nbconvert_exporter": "python",
   "pygments_lexer": "ipython3",
   "version": "3.8.3"
  }
 },
 "nbformat": 4,
 "nbformat_minor": 4
}
