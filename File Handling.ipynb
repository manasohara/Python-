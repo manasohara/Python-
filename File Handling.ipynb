{
 "cells": [
  {
   "cell_type": "code",
   "execution_count": 20,
   "metadata": {},
   "outputs": [],
   "source": [
    "file=open(\"Doc.txt\",\"r\") #file name,mode"
   ]
  },
  {
   "cell_type": "markdown",
   "metadata": {},
   "source": [
    "## r->reading w->writing r+w-> read+write a-> append"
   ]
  },
  {
   "cell_type": "code",
   "execution_count": 21,
   "metadata": {},
   "outputs": [
    {
     "data": {
      "text/plain": [
       "'In this proposed project we have to implement a system to have an effective and qualitative vegetable production, weather production and prediction about production of food so farmer can produce product safely to people with best quality. This system also provides iconic interface for better communication between the farmers. To remove the language barrier between the farmers it will consists of an English to Indian Language Translator so farmers can access the data without any tension. In future, we can incorporate other multiple Indian languages like - Bengali, Tamil, etc. with Krishimitra interface. We can also includes text to speech translation and we can also add video links for farmers easily understanding and for their convenience.\\nThis system will also provide the latest details of goverments newly released services and also the information regarding bank loan.'"
      ]
     },
     "execution_count": 21,
     "metadata": {},
     "output_type": "execute_result"
    }
   ],
   "source": [
    "file.read()"
   ]
  },
  {
   "cell_type": "markdown",
   "metadata": {},
   "source": [
    "## how many characters you want ?"
   ]
  },
  {
   "cell_type": "code",
   "execution_count": 23,
   "metadata": {},
   "outputs": [
    {
     "data": {
      "text/plain": [
       "''"
      ]
     },
     "execution_count": 23,
     "metadata": {},
     "output_type": "execute_result"
    }
   ],
   "source": [
    "file.read(40)"
   ]
  },
  {
   "cell_type": "code",
   "execution_count": 24,
   "metadata": {},
   "outputs": [],
   "source": [
    "file.close()"
   ]
  },
  {
   "cell_type": "markdown",
   "metadata": {},
   "source": [
    "# #With statement"
   ]
  },
  {
   "cell_type": "markdown",
   "metadata": {},
   "source": [
    "## when you use with it will automatically close file"
   ]
  },
  {
   "cell_type": "code",
   "execution_count": 35,
   "metadata": {},
   "outputs": [
    {
     "name": "stdout",
     "output_type": "stream",
     "text": [
      "In this proposed project we have to implement a system to have an effective and qualitative vegetable production, weather production and prediction about production of food so farmer can produce product safely to people with best quality. This system also provides iconic interface for better communication between the farmers. To remove the language barrier between the farmers it will consists of an English to Indian Language Translator so farmers can access the data without any tension. In future, we can incorporate other multiple Indian languages like - Bengali, Tamil, etc. with Krishimitra interface. We can also includes text to speech translation and we can also add video links for farmers easily understanding and for their convenience.\n",
      "\n"
     ]
    }
   ],
   "source": [
    "with open(\"Doc.txt\",\"r\") as file:\n",
    "    print(file.readline())"
   ]
  },
  {
   "cell_type": "markdown",
   "metadata": {},
   "source": [
    "## in the read and readline  ; read only print the data but will know new line as \\n but in readline it will show with enter"
   ]
  },
  {
   "cell_type": "markdown",
   "metadata": {},
   "source": [
    "# Writing File in Python"
   ]
  },
  {
   "cell_type": "code",
   "execution_count": 53,
   "metadata": {},
   "outputs": [],
   "source": [
    "with open(\"Manas.txt\",\"w\") as file:\n",
    "    file.write(\"Hello Everyone , This is Manas here\")"
   ]
  },
  {
   "cell_type": "markdown",
   "metadata": {},
   "source": [
    "## even though you dont have file it will create the file and write\n",
    "## here Manas.txt was not there so it created the file in directory and wrote the data i given\n",
    "## but go with writeline() instead of write()"
   ]
  },
  {
   "cell_type": "code",
   "execution_count": 54,
   "metadata": {
    "scrolled": true
   },
   "outputs": [
    {
     "name": "stdout",
     "output_type": "stream",
     "text": [
      "enter the content 1567\n",
      "enter the content2890\n"
     ]
    }
   ],
   "source": [
    "a=input(\"enter the content 1\")\n",
    "b=input(\"enter the content2\")\n",
    "with open(\"Manas.txt\",\"a\") as file:\n",
    "    lines=[a,b]\n",
    "    file.writelines(lines)"
   ]
  },
  {
   "cell_type": "markdown",
   "metadata": {},
   "source": [
    "## tell() and seek()"
   ]
  },
  {
   "cell_type": "code",
   "execution_count": 56,
   "metadata": {},
   "outputs": [
    {
     "name": "stdout",
     "output_type": "stream",
     "text": [
      "3\n"
     ]
    }
   ],
   "source": [
    "with open(\"Manas.txt\",\"r\") as file:\n",
    "    file.read(3)\n",
    "    print(file.tell())"
   ]
  },
  {
   "cell_type": "markdown",
   "metadata": {},
   "source": [
    "## tell tells about where is file pointer (cursor) now"
   ]
  },
  {
   "cell_type": "code",
   "execution_count": 58,
   "metadata": {},
   "outputs": [
    {
     "name": "stdout",
     "output_type": "stream",
     "text": [
      "20\n",
      " When you have to explain it, itâ€™s bad.\" \n"
     ]
    }
   ],
   "source": [
    "with open(\"Sample.txt\",\"r\") as file:\n",
    "    file.seek(20)\n",
    "    print(file.tell())\n",
    "    print(file.readline())"
   ]
  },
  {
   "cell_type": "markdown",
   "metadata": {},
   "source": [
    "## seek will get you to the point where you desire"
   ]
  },
  {
   "cell_type": "code",
   "execution_count": null,
   "metadata": {},
   "outputs": [],
   "source": []
  }
 ],
 "metadata": {
  "kernelspec": {
   "display_name": "Python 3",
   "language": "python",
   "name": "python3"
  },
  "language_info": {
   "codemirror_mode": {
    "name": "ipython",
    "version": 3
   },
   "file_extension": ".py",
   "mimetype": "text/x-python",
   "name": "python",
   "nbconvert_exporter": "python",
   "pygments_lexer": "ipython3",
   "version": "3.8.3"
  }
 },
 "nbformat": 4,
 "nbformat_minor": 4
}
