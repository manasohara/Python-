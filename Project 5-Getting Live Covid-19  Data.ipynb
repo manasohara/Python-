{
 "cells": [
  {
   "cell_type": "code",
   "execution_count": 8,
   "metadata": {},
   "outputs": [
    {
     "data": {
      "text/plain": [
       "{'id': '80',\n",
       " 'country': 'India',\n",
       " 'confirmed': 29823546,\n",
       " 'active': 760019,\n",
       " 'deaths': 385137,\n",
       " 'recovered': 28678390,\n",
       " 'latitude': 20.593684,\n",
       " 'longitude': 78.96288,\n",
       " 'last_update': 1624087345000}"
      ]
     },
     "execution_count": 8,
     "metadata": {},
     "output_type": "execute_result"
    }
   ],
   "source": [
    "from covid import Covid\n",
    "instance=Covid() #instanciating covid class\n",
    "len(instance.get_data())\n",
    "data=instance.get_data()\n",
    "instance.get_status_by_country_name(\"India\")"
   ]
  },
  {
   "cell_type": "code",
   "execution_count": null,
   "metadata": {},
   "outputs": [],
   "source": []
  }
 ],
 "metadata": {
  "kernelspec": {
   "display_name": "Python 3",
   "language": "python",
   "name": "python3"
  },
  "language_info": {
   "codemirror_mode": {
    "name": "ipython",
    "version": 3
   },
   "file_extension": ".py",
   "mimetype": "text/x-python",
   "name": "python",
   "nbconvert_exporter": "python",
   "pygments_lexer": "ipython3",
   "version": "3.8.3"
  }
 },
 "nbformat": 4,
 "nbformat_minor": 4
}
