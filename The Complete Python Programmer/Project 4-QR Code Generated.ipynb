{
 "cells": [
  {
   "cell_type": "code",
   "execution_count": 6,
   "metadata": {},
   "outputs": [
    {
     "name": "stdout",
     "output_type": "stream",
     "text": [
      "https://tinyurl.com/yzdm47ee\n"
     ]
    },
    {
     "data": {
      "image/png": "[encoded data removed]",
      "text/plain": [
       "<qrcode.image.pil.PilImage at 0x2650385f910>"
      ]
     },
     "execution_count": 6,
     "metadata": {},
     "output_type": "execute_result"
    }
   ],
   "source": [
    "import qrcode\n",
    "from pyshorteners import *\n",
    "url=Shortener()\n",
    "short_url=url.tinyurl.short(\"https://www.google.com/search?q=46motomad&sxsrf=ALeKk03QEqiux6VLiFWD__k_FDbD7gMqLA%3A1624010750574&source=hp&ei=_m_MYIuhIJOO4-EPpOuOuAk&iflsig=AINFCbYAAAAAYMx-Dlzsn4NmhhEoIpmiOIMiQQm88rhg&oq=46motomad&gs_lcp=Cgdnd3Mtd2l6EAM6BwgjEOoCECc6CAgAELEDEIMBOgUIABCxAzoCCC46AggAOggILhDHARCvAToECAAQCjoECC4QCjoKCC4QxwEQrwEQCjoECAAQDToGCAAQDRAeOggIABANEAoQHjoICAAQCBANEB46DQguEMcBEK8BEA0QkwJQqxxY6zJg4DRoAXAAeACAAdcBiAHoDJIBBTAuNy4ymAEAoAEBqgEHZ3dzLXdperABCg&sclient=gws-wiz&ved=0ahUKEwiLmJa_96DxAhUTxzgGHaS1A5cQ4dUDCAc&uact=5\")\n",
    "print(short_url)\n",
    "img=qrcode.make(short_url)\n",
    "img"
   ]
  }
 ],
 "metadata": {
  "kernelspec": {
   "display_name": "Python 3",
   "language": "python",
   "name": "python3"
  },
  "language_info": {
   "codemirror_mode": {
    "name": "ipython",
    "version": 3
   },
   "file_extension": ".py",
   "mimetype": "text/x-python",
   "name": "python",
   "nbconvert_exporter": "python",
   "pygments_lexer": "ipython3",
   "version": "3.8.3"
  }
 },
 "nbformat": 4,
 "nbformat_minor": 4
}
