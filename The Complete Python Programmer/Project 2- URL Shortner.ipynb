{
 "cells": [
  {
   "cell_type": "code",
   "execution_count": null,
   "metadata": {},
   "outputs": [],
   "source": [
    "from pyshorteners import *\n",
    "url=Shortener()\n",
    "short_url=url.tinyurl.short(\"https://www.google.com/search?q=46motomad&sxsrf=ALeKk03QEqiux6VLiFWD__k_FDbD7gMqLA%3A1624010750574&source=hp&ei=_m_MYIuhIJOO4-EPpOuOuAk&iflsig=AINFCbYAAAAAYMx-Dlzsn4NmhhEoIpmiOIMiQQm88rhg&oq=46motomad&gs_lcp=Cgdnd3Mtd2l6EAM6BwgjEOoCECc6CAgAELEDEIMBOgUIABCxAzoCCC46AggAOggILhDHARCvAToECAAQCjoECC4QCjoKCC4QxwEQrwEQCjoECAAQDToGCAAQDRAeOggIABANEAoQHjoICAAQCBANEB46DQguEMcBEK8BEA0QkwJQqxxY6zJg4DRoAXAAeACAAdcBiAHoDJIBBTAuNy4ymAEAoAEBqgEHZ3dzLXdperABCg&sclient=gws-wiz&ved=0ahUKEwiLmJa_96DxAhUTxzgGHaS1A5cQ4dUDCAc&uact=5\")\n",
    "print(short_url)"
   ]
  },
  {
   "cell_type": "markdown",
   "metadata": {},
   "source": [
    "## Same code in GUI"
   ]
  },
  {
   "cell_type": "code",
   "execution_count": null,
   "metadata": {},
   "outputs": [
    {
     "name": "stderr",
     "output_type": "stream",
     "text": [
      "Exception in Tkinter callback\n",
      "Traceback (most recent call last):\n",
      "  File \"C:\\Users\\admin\\anaconda3\\lib\\tkinter\\__init__.py\", line 1883, in __call__\n",
      "    return self.func(*args)\n",
      "  File \"<ipython-input-1-d864c70eb5ed>\", line 8, in create_url\n",
      "    generated_url=url.tinyurl.short(long)\n",
      "  File \"C:\\Users\\admin\\anaconda3\\lib\\site-packages\\pyshorteners\\shorteners\\tinyurl.py\", line 33, in short\n",
      "    url = self.clean_url(url)\n",
      "  File \"C:\\Users\\admin\\anaconda3\\lib\\site-packages\\pyshorteners\\base.py\", line 152, in clean_url\n",
      "    raise BadURLException(f\"{url} is not valid\")\n",
      "pyshorteners.exceptions.BadURLException: URL is not valid: http:// is not valid\n",
      "Exception in Tkinter callback\n",
      "Traceback (most recent call last):\n",
      "  File \"C:\\Users\\admin\\anaconda3\\lib\\tkinter\\__init__.py\", line 1883, in __call__\n",
      "    return self.func(*args)\n",
      "  File \"<ipython-input-1-d864c70eb5ed>\", line 8, in create_url\n",
      "    generated_url=url.tinyurl.short(long)\n",
      "  File \"C:\\Users\\admin\\anaconda3\\lib\\site-packages\\pyshorteners\\shorteners\\tinyurl.py\", line 33, in short\n",
      "    url = self.clean_url(url)\n",
      "  File \"C:\\Users\\admin\\anaconda3\\lib\\site-packages\\pyshorteners\\base.py\", line 152, in clean_url\n",
      "    raise BadURLException(f\"{url} is not valid\")\n",
      "pyshorteners.exceptions.BadURLException: URL is not valid: http:// is not valid\n"
     ]
    }
   ],
   "source": [
    "from tkinter import *\n",
    "from pyshorteners import *\n",
    "url=Shortener()\n",
    "master=Tk()\n",
    "def create_url():\n",
    "    long=long_url.get()\n",
    "    del_url() # so that earlier password wont concatenate with current password\n",
    "    generated_url=url.tinyurl.short(long)\n",
    "    short_url.insert(0,generated_url)\n",
    "def del_url():\n",
    "    long_url.delete(0,END)\n",
    "master.title(\"URL Shortner\")\n",
    "label1=Label(master,text=\"Long URL :\",font=(\"Arial\",14,\"bold\"))\n",
    "label2=Label(master,text=\"Short URL : \",font=(\"Arial\",14,\"bold\"))\n",
    "long_url=Entry(master)\n",
    "short_url=Entry(master)\n",
    "gen_button=Button(master,text=\"Generate Short URL\",command=create_url)\n",
    "reset_button=Button(master,text=\"Reset\",command=del_url)\n",
    "label1.grid(row=1,column=0)\n",
    "long_url.grid(row=1,column=1)\n",
    "label2.grid(row=2,column=0)\n",
    "short_url.grid(row=2,column=1)\n",
    "gen_button.grid(row=3,column=0)\n",
    "reset_button.grid(row=3,column=1)\n",
    "master.mainloop()"
   ]
  },
  {
   "cell_type": "code",
   "execution_count": null,
   "metadata": {},
   "outputs": [],
   "source": []
  }
 ],
 "metadata": {
  "kernelspec": {
   "display_name": "Python 3",
   "language": "python",
   "name": "python3"
  },
  "language_info": {
   "codemirror_mode": {
    "name": "ipython",
    "version": 3
   },
   "file_extension": ".py",
   "mimetype": "text/x-python",
   "name": "python",
   "nbconvert_exporter": "python",
   "pygments_lexer": "ipython3",
   "version": "3.8.3"
  }
 },
 "nbformat": 4,
 "nbformat_minor": 4
}
