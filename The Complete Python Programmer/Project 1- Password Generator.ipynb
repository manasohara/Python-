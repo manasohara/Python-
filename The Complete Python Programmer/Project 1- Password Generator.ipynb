{
 "cells": [
  {
   "cell_type": "code",
   "execution_count": 6,
   "metadata": {},
   "outputs": [],
   "source": [
    "from password_generator import PasswordGenerator"
   ]
  },
  {
   "cell_type": "code",
   "execution_count": 7,
   "metadata": {},
   "outputs": [],
   "source": [
    "password=PasswordGenerator()"
   ]
  },
  {
   "cell_type": "code",
   "execution_count": 8,
   "metadata": {},
   "outputs": [],
   "source": [
    "password.minlen=8\n",
    "password.maxlen=8\n",
    "password.minuchars=1\n",
    "password.minlchars=1\n",
    "password.minnumbers=1\n",
    "password.minschars=1"
   ]
  },
  {
   "cell_type": "code",
   "execution_count": 9,
   "metadata": {},
   "outputs": [
    {
     "name": "stdout",
     "output_type": "stream",
     "text": [
      "8\n"
     ]
    }
   ],
   "source": [
    "password.generate()\n",
    "print(len(password.generate()))"
   ]
  },
  {
   "cell_type": "code",
   "execution_count": 10,
   "metadata": {},
   "outputs": [
    {
     "name": "stdout",
     "output_type": "stream",
     "text": [
      "Help on PasswordGenerator in module password_generator object:\n",
      "\n",
      "class PasswordGenerator(builtins.object)\n",
      " |  We can set properties such as\n",
      " |  \n",
      " |  | minlen     |   Minimum length of the password | 6\n",
      " |  \n",
      " |  | maxlen     |   Maximum length of the password | 16\n",
      " |  \n",
      " |  | minuchars  |   Minimum upper case characters required in password | 1\n",
      " |  \n",
      " |  | minlchars  |   Minimum lower case characters required in password | 1\n",
      " |  \n",
      " |  | minnumbers |   Minimum numbers required in password               | 1\n",
      " |  \n",
      " |  | minschars  |   Minimum special characters in the password         | 1\n",
      " |  \n",
      " |  \n",
      " |  Methods implemented in this class are\n",
      " |  \n",
      " |  generate() : Generates a password using default or custom propertiesself.\n",
      " |  \n",
      " |  shuffle_password(password, length) : Shuffle the given charactes and return a password from given characters.\n",
      " |  \n",
      " |  non_duplicate_password(length) : Generate a non duplicate key of givrn length\n",
      " |  \n",
      " |  Methods defined here:\n",
      " |  \n",
      " |  __init__(self)\n",
      " |      Initialize self.  See help(type(self)) for accurate signature.\n",
      " |  \n",
      " |  generate(self)\n",
      " |      Generates a password using default or custom properties\n",
      " |  \n",
      " |  non_duplicate_password(self, maxlen)\n",
      " |      Generate a non duplicate key of given length\n",
      " |  \n",
      " |  shuffle_password(self, password, maxlen)\n",
      " |      Shuffle the given charactes and return a password from given characters.\n",
      " |  \n",
      " |  ----------------------------------------------------------------------\n",
      " |  Data descriptors defined here:\n",
      " |  \n",
      " |  __dict__\n",
      " |      dictionary for instance variables (if defined)\n",
      " |  \n",
      " |  __weakref__\n",
      " |      list of weak references to the object (if defined)\n",
      "\n"
     ]
    }
   ],
   "source": [
    "help(password)"
   ]
  },
  {
   "cell_type": "code",
   "execution_count": 11,
   "metadata": {},
   "outputs": [
    {
     "data": {
      "text/plain": [
       "',U1+vN-g'"
      ]
     },
     "execution_count": 11,
     "metadata": {},
     "output_type": "execute_result"
    }
   ],
   "source": [
    "from password_generator import PasswordGenerator\n",
    "password=PasswordGenerator()\n",
    "password.minlen=8\n",
    "password.maxlen=8\n",
    "password.minuchars=1\n",
    "password.minlchars=1\n",
    "password.minnumbers=1\n",
    "password.minschars=1\n",
    "password.generate()"
   ]
  },
  {
   "cell_type": "code",
   "execution_count": 12,
   "metadata": {},
   "outputs": [],
   "source": [
    "def create_password():\n",
    "    del_pwd() # so that earlier password wont concatenate with current password\n",
    "    generated_password=password.generate()\n",
    "    pwd.insert(0,generated_password)\n",
    "def del_pwd():\n",
    "    pwd.delete(0,END)"
   ]
  },
  {
   "cell_type": "markdown",
   "metadata": {},
   "source": [
    "## Same code but in GUI"
   ]
  },
  {
   "cell_type": "code",
   "execution_count": 14,
   "metadata": {},
   "outputs": [],
   "source": [
    "from tkinter import *\n",
    "from tkinter import messagebox\n",
    "master=Tk()\n",
    "master.title(\"Random Password Generator\")\n",
    "label1=Label(master,text=\"Password Generator\",font=(\"Arial\",14,\"bold\"))\n",
    "pwd=Entry(master)\n",
    "gen_button=Button(master,text=\"Generate Password\",command=create_password)\n",
    "reset_button=Button(master,text=\"Reset\",command=del_pwd)\n",
    "label1.grid(row=0,column=0)\n",
    "pwd.grid(row=1,column=0)\n",
    "gen_button.grid(row=2,column=0)\n",
    "reset_button.grid(row=2,column=1)\n",
    "master.mainloop()"
   ]
  },
  {
   "cell_type": "markdown",
   "metadata": {},
   "source": [
    "### Writing our own algorithm for generating password"
   ]
  },
  {
   "cell_type": "code",
   "execution_count": 49,
   "metadata": {},
   "outputs": [
    {
     "name": "stdout",
     "output_type": "stream",
     "text": [
      "65\n"
     ]
    }
   ],
   "source": [
    "a='A' ## 65(A)- 98(Z)\n",
    "print(ord(a))"
   ]
  },
  {
   "cell_type": "code",
   "execution_count": 54,
   "metadata": {},
   "outputs": [
    {
     "name": "stdout",
     "output_type": "stream",
     "text": [
      "A\n"
     ]
    }
   ],
   "source": [
    "a=65\n",
    "print(chr(a))"
   ]
  },
  {
   "cell_type": "code",
   "execution_count": 56,
   "metadata": {},
   "outputs": [
    {
     "name": "stdout",
     "output_type": "stream",
     "text": [
      "['#', '$', '%', '&', \"'\", '(', ')', '*', '+', ',', '-', '.', '/', '0', '1', '2', '3', '4', '5', '6', '7', '8', '9', ':', ';', '<', '=', '>', '?', '@', 'A', 'B', 'C', 'D', 'E', 'F', 'G', 'H', 'I', 'J', 'K', 'L', 'M', 'N', 'O', 'P', 'Q', 'R', 'S', 'T', 'U', 'V', 'W', 'X', 'Y', 'Z', '[', '\\\\', ']', '^', '_', '`', 'a', 'b', 'c', 'd', 'e', 'f', 'g', 'h', 'i', 'j', 'k', 'l', 'm', 'n', 'o', 'p', 'q', 'r', 's', 't', 'u', 'v', 'w', 'x', 'y', 'z', '{', '|']\n"
     ]
    }
   ],
   "source": [
    "letters=[chr(i) for i in range(35,125)]\n",
    "print(letters)"
   ]
  },
  {
   "cell_type": "code",
   "execution_count": 3,
   "metadata": {},
   "outputs": [
    {
     "name": "stdout",
     "output_type": "stream",
     "text": [
      "Enter length to generate password : 8\n",
      "Genrated password is : \t IXD91bSd\n"
     ]
    }
   ],
   "source": [
    "import random\n",
    "omit=['#', '$', '%', '&', \"'\", '(', ')', '*', '+', ',', '-', '.', '/', '[', '\\\\', ']', '^', '_', '`','{', '|']\n",
    "letters=[chr(i) for i in range(35,125) if chr(i) not in omit]\n",
    "password=\"\"\n",
    "length=int(input(\"Enter length to generate password : \"))\n",
    "for i in range(0,length):\n",
    "    password=password+random.choice(letters)\n",
    "print(\"Genrated password is : \\t {}\".format(password))"
   ]
  },
  {
   "cell_type": "code",
   "execution_count": null,
   "metadata": {},
   "outputs": [],
   "source": []
  },
  {
   "cell_type": "code",
   "execution_count": null,
   "metadata": {},
   "outputs": [],
   "source": []
  }
 ],
 "metadata": {
  "kernelspec": {
   "display_name": "Python 3",
   "language": "python",
   "name": "python3"
  },
  "language_info": {
   "codemirror_mode": {
    "name": "ipython",
    "version": 3
   },
   "file_extension": ".py",
   "mimetype": "text/x-python",
   "name": "python",
   "nbconvert_exporter": "python",
   "pygments_lexer": "ipython3",
   "version": "3.8.3"
  }
 },
 "nbformat": 4,
 "nbformat_minor": 4
}
