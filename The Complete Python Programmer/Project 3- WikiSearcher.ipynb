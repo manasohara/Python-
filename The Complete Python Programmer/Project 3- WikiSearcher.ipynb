{
 "cells": [
  {
   "cell_type": "code",
   "execution_count": null,
   "metadata": {},
   "outputs": [],
   "source": [
    "import wikipedia\n",
    "import os\n",
    "with open(\"SearchResult.txt\",\"a\") as file:\n",
    "    data=wikipedia.summary(\"Python Programming\",10)\n",
    "    file.write(data)\n",
    "os.system(\"SearchResult.txt\")"
   ]
  },
  {
   "cell_type": "markdown",
   "metadata": {},
   "source": [
    "## With GUI"
   ]
  },
  {
   "cell_type": "code",
   "execution_count": null,
   "metadata": {},
   "outputs": [],
   "source": [
    "from tkinter import *\n",
    "from tkinter import messagebox\n",
    "import wikipedia\n",
    "import os\n",
    "def create_file():\n",
    "    #text=wiki_text.get()\n",
    "    with open(\"SearchResult.txt\",\"a\") as file:\n",
    "        data=wikipedia.summary(wiki_text,10)\n",
    "        file.write(data)\n",
    "def open_file():\n",
    "    os.system(\"SearchResult.txt\")\n",
    "master=Tk()\n",
    "master.title(\"Wikipedia Summary Searcher\")\n",
    "label1=Label(master,text=\"Search on Wiki\",font=(\"Arial\",14,\"bold\"))\n",
    "wiki_text=Entry(master)\n",
    "search_button=Button(master,text=\"Search and Create\",command=create_file)\n",
    "open_button=Button(master,text=\"Open File\",command=open_file)\n",
    "label1.grid(row=0,column=0)\n",
    "wiki_text.grid(row=0,column=1)\n",
    "search_button.grid(row=2,column=0)\n",
    "open_button.grid(row=2,column=1)\n",
    "master.mainloop()"
   ]
  },
  {
   "cell_type": "code",
   "execution_count": null,
   "metadata": {},
   "outputs": [],
   "source": []
  }
 ],
 "metadata": {
  "kernelspec": {
   "display_name": "Python 3",
   "language": "python",
   "name": "python3"
  },
  "language_info": {
   "codemirror_mode": {
    "name": "ipython",
    "version": 3
   },
   "file_extension": ".py",
   "mimetype": "text/x-python",
   "name": "python",
   "nbconvert_exporter": "python",
   "pygments_lexer": "ipython3",
   "version": "3.8.3"
  }
 },
 "nbformat": 4,
 "nbformat_minor": 4
}
